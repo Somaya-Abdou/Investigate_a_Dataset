{
 "cells": [
  {
   "cell_type": "markdown",
   "metadata": {},
   "source": [
    "\n",
    "# Project: Investigate a Dataset - [European Soccer Database]\n",
    "\n",
    "## Table of Contents\n",
    "<ul>\n",
    "<li><a href=\"#intro\">Introduction</a></li>\n",
    "<li><a href=\"#wrangling\">Data Wrangling</a></li>\n",
    "<li><a href=\"#eda\">Exploratory Data Analysis</a></li>\n",
    "<li><a href=\"#conclusions\">Conclusions</a></li>\n",
    "</ul>"
   ]
  },
  {
   "cell_type": "markdown",
   "metadata": {},
   "source": [
    "<a id='intro'></a>\n",
    "## Introduction\n",
    "\n",
    "### Dataset Description \n",
    "\n",
    "> You can easily find data about soccer matches but they are usually scattered across different websites. A thorough data collection and processing has been done to make your life easier in this daat base What you get:\n",
    "\n",
    "+25,000 matches\n",
    "+10,000 players\n",
    "11 European Countries with their lead championship\n",
    "Seasons 2008 to 2016\n",
    "Players and Teams' attributes* sourced from EA Sports' FIFA video game series, including the weekly updates\n",
    "Team line up with squad formation (X, Y coordinates)\n",
    "Betting odds from up to 10 providers\n",
    "Detailed match events (goal types, possession, corner, cross, fouls, cards etc…) for +10,000 matches\n",
    "tables are :\n",
    "Country \n",
    "League\t            foreign keys : country_id\n",
    "Match\t            foreign keys : country_id  ,  league_id  \n",
    "Player\t            \n",
    "Player_Attributes\t\n",
    "Team\t            \n",
    "Team_Attributes     \n",
    "\n",
    "### Question(s) for Analysis\n",
    "which countrys have the largest number of hoe town goals ?\n",
    "\n",
    "\n",
    "what is the most common speed between teams ? \n",
    "\n",
    "\n",
    "Which players had the least and max penalties?\n",
    "\n"
   ]
  },
  {
   "cell_type": "code",
   "execution_count": 3,
   "metadata": {},
   "outputs": [],
   "source": [
    "# Use this cell to set up import statements for all of the packages that you\n",
    "#   plan to use.\n",
    "import time\n",
    "import pandas as pd \n",
    "import numpy as np \n",
    "import matplotlib.pyplot as plt\n",
    "import seaborn as sns\n",
    "%matplotlib inline"
   ]
  },
  {
   "cell_type": "code",
   "execution_count": 230,
   "metadata": {},
   "outputs": [],
   "source": [
    "# Upgrade pandas to use dataframe.explode() function. \n",
    "!pip install --upgrade pandas ==0.25.0"
   ]
  },
  {
   "cell_type": "code",
   "execution_count": 3,
   "metadata": {
    "scrolled": true
   },
   "outputs": [],
   "source": [
    "!pip3 install --upgrade pip"
   ]
  },
  {
   "cell_type": "markdown",
   "metadata": {},
   "source": [
    "<a id='wrangling'></a>\n",
    "## Data Wrangling\n",
    "\n",
    "showing the data using head() and then seeing columns of null values and duplicated rows to decide which to be dropped\n"
   ]
  },
  {
   "cell_type": "code",
   "execution_count": 4,
   "metadata": {},
   "outputs": [],
   "source": [
    "# Load your data and print out a few lines. Perform operations to inspect data\n",
    "#   types and look for instances of missing or possibly errant data.\n",
    "country = pd.read_csv('Database_Soccer/Country.csv')\n",
    "league = pd.read_csv('Database_Soccer/League.csv')\n",
    "player = pd.read_csv('Database_Soccer/Player.csv')\n",
    "match = pd.read_csv('Database_Soccer/Match.csv')\n",
    "player_attributes = pd.read_csv('Database_Soccer/Player_Attributes.csv')\n",
    "team = pd.read_csv('Database_Soccer/Team.csv')\n",
    "team_attributes = pd.read_csv('Database_Soccer/Team_Attributes.csv')"
   ]
  },
  {
   "cell_type": "markdown",
   "metadata": {},
   "source": [
    "seeing heads of all tables"
   ]
  },
  {
   "cell_type": "code",
   "execution_count": 5,
   "metadata": {},
   "outputs": [
    {
     "name": "stdout",
     "output_type": "stream",
     "text": [
      "   id     name\n",
      "0   1  Belgium\n",
      "   id  country_id                    name\n",
      "0   1           1  Belgium Jupiler League\n",
      "   id  player_api_id         player_name  player_fifa_api_id  \\\n",
      "0   1         505942  Aaron Appindangoye              218353   \n",
      "\n",
      "              birthday  height  weight  \n",
      "0  1992-02-29 00:00:00  182.88     187  \n",
      "   id  country_id  league_id     season  stage                 date  \\\n",
      "0   1           1          1  2008/2009      1  2008-08-17 00:00:00   \n",
      "\n",
      "   match_api_id  home_team_api_id  away_team_api_id  home_team_goal ...   SJA  \\\n",
      "0        492473              9987              9993               1 ...   4.0   \n",
      "\n",
      "    VCH  VCD  VCA   GBH   GBD  GBA   BSH  BSD  BSA  \n",
      "0  1.65  3.4  4.5  1.78  3.25  4.0  1.73  3.4  4.2  \n",
      "\n",
      "[1 rows x 115 columns]\n",
      "   id  player_fifa_api_id  player_api_id                 date  overall_rating  \\\n",
      "0   1              218353         505942  2016-02-18 00:00:00            67.0   \n",
      "\n",
      "   potential preferred_foot attacking_work_rate defensive_work_rate  crossing  \\\n",
      "0       71.0          right              medium              medium      49.0   \n",
      "\n",
      "      ...       vision  penalties  marking  standing_tackle  sliding_tackle  \\\n",
      "0     ...         54.0       48.0     65.0             69.0            69.0   \n",
      "\n",
      "   gk_diving  gk_handling  gk_kicking  gk_positioning  gk_reflexes  \n",
      "0        6.0         11.0        10.0             8.0          8.0  \n",
      "\n",
      "[1 rows x 42 columns]\n",
      "   id  team_api_id  team_fifa_api_id team_long_name team_short_name\n",
      "0   1         9987             673.0       KRC Genk             GEN\n",
      "   id  team_fifa_api_id  team_api_id                 date  buildUpPlaySpeed  \\\n",
      "0   1               434         9930  2010-02-22 00:00:00                60   \n",
      "\n",
      "  buildUpPlaySpeedClass  buildUpPlayDribbling buildUpPlayDribblingClass  \\\n",
      "0              Balanced                   NaN                    Little   \n",
      "\n",
      "   buildUpPlayPassing buildUpPlayPassingClass           ...             \\\n",
      "0                  50                   Mixed           ...              \n",
      "\n",
      "  chanceCreationShooting  chanceCreationShootingClass  \\\n",
      "0                     55                       Normal   \n",
      "\n",
      "  chanceCreationPositioningClass  defencePressure defencePressureClass  \\\n",
      "0                      Organised               50               Medium   \n",
      "\n",
      "   defenceAggression defenceAggressionClass defenceTeamWidth  \\\n",
      "0                 55                  Press               45   \n",
      "\n",
      "   defenceTeamWidthClass defenceDefenderLineClass  \n",
      "0                 Normal                    Cover  \n",
      "\n",
      "[1 rows x 25 columns]\n"
     ]
    }
   ],
   "source": [
    "for i in [country,league,player,match,player_attributes,team,team_attributes] :\n",
    "  print(i.head(1))"
   ]
  },
  {
   "cell_type": "markdown",
   "metadata": {},
   "source": [
    "seeing info of rows types and number and nulls"
   ]
  },
  {
   "cell_type": "code",
   "execution_count": 6,
   "metadata": {},
   "outputs": [
    {
     "name": "stdout",
     "output_type": "stream",
     "text": [
      "<class 'pandas.core.frame.DataFrame'>\n",
      "RangeIndex: 11 entries, 0 to 10\n",
      "Data columns (total 2 columns):\n",
      "id      11 non-null int64\n",
      "name    11 non-null object\n",
      "dtypes: int64(1), object(1)\n",
      "memory usage: 256.0+ bytes\n",
      "None\n",
      "<class 'pandas.core.frame.DataFrame'>\n",
      "RangeIndex: 11 entries, 0 to 10\n",
      "Data columns (total 3 columns):\n",
      "id            11 non-null int64\n",
      "country_id    11 non-null int64\n",
      "name          11 non-null object\n",
      "dtypes: int64(2), object(1)\n",
      "memory usage: 344.0+ bytes\n",
      "None\n",
      "<class 'pandas.core.frame.DataFrame'>\n",
      "RangeIndex: 11060 entries, 0 to 11059\n",
      "Data columns (total 7 columns):\n",
      "id                    11060 non-null int64\n",
      "player_api_id         11060 non-null int64\n",
      "player_name           11060 non-null object\n",
      "player_fifa_api_id    11060 non-null int64\n",
      "birthday              11060 non-null object\n",
      "height                11060 non-null float64\n",
      "weight                11060 non-null int64\n",
      "dtypes: float64(1), int64(4), object(2)\n",
      "memory usage: 604.9+ KB\n",
      "None\n",
      "<class 'pandas.core.frame.DataFrame'>\n",
      "RangeIndex: 25979 entries, 0 to 25978\n",
      "Columns: 115 entries, id to BSA\n",
      "dtypes: float64(96), int64(9), object(10)\n",
      "memory usage: 22.8+ MB\n",
      "None\n",
      "<class 'pandas.core.frame.DataFrame'>\n",
      "RangeIndex: 183978 entries, 0 to 183977\n",
      "Data columns (total 42 columns):\n",
      "id                     183978 non-null int64\n",
      "player_fifa_api_id     183978 non-null int64\n",
      "player_api_id          183978 non-null int64\n",
      "date                   183978 non-null object\n",
      "overall_rating         183142 non-null float64\n",
      "potential              183142 non-null float64\n",
      "preferred_foot         183142 non-null object\n",
      "attacking_work_rate    180748 non-null object\n",
      "defensive_work_rate    183142 non-null object\n",
      "crossing               183142 non-null float64\n",
      "finishing              183142 non-null float64\n",
      "heading_accuracy       183142 non-null float64\n",
      "short_passing          183142 non-null float64\n",
      "volleys                181265 non-null float64\n",
      "dribbling              183142 non-null float64\n",
      "curve                  181265 non-null float64\n",
      "free_kick_accuracy     183142 non-null float64\n",
      "long_passing           183142 non-null float64\n",
      "ball_control           183142 non-null float64\n",
      "acceleration           183142 non-null float64\n",
      "sprint_speed           183142 non-null float64\n",
      "agility                181265 non-null float64\n",
      "reactions              183142 non-null float64\n",
      "balance                181265 non-null float64\n",
      "shot_power             183142 non-null float64\n",
      "jumping                181265 non-null float64\n",
      "stamina                183142 non-null float64\n",
      "strength               183142 non-null float64\n",
      "long_shots             183142 non-null float64\n",
      "aggression             183142 non-null float64\n",
      "interceptions          183142 non-null float64\n",
      "positioning            183142 non-null float64\n",
      "vision                 181265 non-null float64\n",
      "penalties              183142 non-null float64\n",
      "marking                183142 non-null float64\n",
      "standing_tackle        183142 non-null float64\n",
      "sliding_tackle         181265 non-null float64\n",
      "gk_diving              183142 non-null float64\n",
      "gk_handling            183142 non-null float64\n",
      "gk_kicking             183142 non-null float64\n",
      "gk_positioning         183142 non-null float64\n",
      "gk_reflexes            183142 non-null float64\n",
      "dtypes: float64(35), int64(3), object(4)\n",
      "memory usage: 59.0+ MB\n",
      "None\n",
      "<class 'pandas.core.frame.DataFrame'>\n",
      "RangeIndex: 299 entries, 0 to 298\n",
      "Data columns (total 5 columns):\n",
      "id                  299 non-null int64\n",
      "team_api_id         299 non-null int64\n",
      "team_fifa_api_id    288 non-null float64\n",
      "team_long_name      299 non-null object\n",
      "team_short_name     299 non-null object\n",
      "dtypes: float64(1), int64(2), object(2)\n",
      "memory usage: 11.8+ KB\n",
      "None\n",
      "<class 'pandas.core.frame.DataFrame'>\n",
      "RangeIndex: 1458 entries, 0 to 1457\n",
      "Data columns (total 25 columns):\n",
      "id                                1458 non-null int64\n",
      "team_fifa_api_id                  1458 non-null int64\n",
      "team_api_id                       1458 non-null int64\n",
      "date                              1458 non-null object\n",
      "buildUpPlaySpeed                  1458 non-null int64\n",
      "buildUpPlaySpeedClass             1458 non-null object\n",
      "buildUpPlayDribbling              489 non-null float64\n",
      "buildUpPlayDribblingClass         1458 non-null object\n",
      "buildUpPlayPassing                1458 non-null int64\n",
      "buildUpPlayPassingClass           1458 non-null object\n",
      "buildUpPlayPositioningClass       1458 non-null object\n",
      "chanceCreationPassing             1458 non-null int64\n",
      "chanceCreationPassingClass        1458 non-null object\n",
      "chanceCreationCrossing            1458 non-null int64\n",
      "chanceCreationCrossingClass       1458 non-null object\n",
      "chanceCreationShooting            1458 non-null int64\n",
      "chanceCreationShootingClass       1458 non-null object\n",
      "chanceCreationPositioningClass    1458 non-null object\n",
      "defencePressure                   1458 non-null int64\n",
      "defencePressureClass              1458 non-null object\n",
      "defenceAggression                 1458 non-null int64\n",
      "defenceAggressionClass            1458 non-null object\n",
      "defenceTeamWidth                  1458 non-null int64\n",
      "defenceTeamWidthClass             1458 non-null object\n",
      "defenceDefenderLineClass          1458 non-null object\n",
      "dtypes: float64(1), int64(11), object(13)\n",
      "memory usage: 284.8+ KB\n",
      "None\n"
     ]
    }
   ],
   "source": [
    "for i in [country,league,player,match,player_attributes,team,team_attributes] :\n",
    "  print(i.info())"
   ]
  },
  {
   "cell_type": "markdown",
   "metadata": {},
   "source": [
    "seeing null values to remove"
   ]
  },
  {
   "cell_type": "code",
   "execution_count": 7,
   "metadata": {},
   "outputs": [
    {
     "name": "stdout",
     "output_type": "stream",
     "text": [
      "id      0\n",
      "name    0\n",
      "dtype: int64\n",
      "id            0\n",
      "country_id    0\n",
      "name          0\n",
      "dtype: int64\n",
      "id                    0\n",
      "player_api_id         0\n",
      "player_name           0\n",
      "player_fifa_api_id    0\n",
      "birthday              0\n",
      "height                0\n",
      "weight                0\n",
      "dtype: int64\n",
      "id                      0\n",
      "country_id              0\n",
      "league_id               0\n",
      "season                  0\n",
      "stage                   0\n",
      "date                    0\n",
      "match_api_id            0\n",
      "home_team_api_id        0\n",
      "away_team_api_id        0\n",
      "home_team_goal          0\n",
      "away_team_goal          0\n",
      "home_player_X1       1821\n",
      "home_player_X2       1821\n",
      "home_player_X3       1832\n",
      "home_player_X4       1832\n",
      "home_player_X5       1832\n",
      "home_player_X6       1832\n",
      "home_player_X7       1832\n",
      "home_player_X8       1832\n",
      "home_player_X9       1832\n",
      "home_player_X10      1832\n",
      "home_player_X11      1832\n",
      "away_player_X1       1832\n",
      "away_player_X2       1832\n",
      "away_player_X3       1832\n",
      "away_player_X4       1832\n",
      "away_player_X5       1832\n",
      "away_player_X6       1832\n",
      "away_player_X7       1832\n",
      "away_player_X8       1832\n",
      "                    ...  \n",
      "B365H                3387\n",
      "B365D                3387\n",
      "B365A                3387\n",
      "BWH                  3404\n",
      "BWD                  3404\n",
      "BWA                  3404\n",
      "IWH                  3459\n",
      "IWD                  3459\n",
      "IWA                  3459\n",
      "LBH                  3423\n",
      "LBD                  3423\n",
      "LBA                  3423\n",
      "PSH                 14811\n",
      "PSD                 14811\n",
      "PSA                 14811\n",
      "WHH                  3408\n",
      "WHD                  3408\n",
      "WHA                  3408\n",
      "SJH                  8882\n",
      "SJD                  8882\n",
      "SJA                  8882\n",
      "VCH                  3411\n",
      "VCD                  3411\n",
      "VCA                  3411\n",
      "GBH                 11817\n",
      "GBD                 11817\n",
      "GBA                 11817\n",
      "BSH                 11818\n",
      "BSD                 11818\n",
      "BSA                 11818\n",
      "Length: 115, dtype: int64\n",
      "id                        0\n",
      "player_fifa_api_id        0\n",
      "player_api_id             0\n",
      "date                      0\n",
      "overall_rating          836\n",
      "potential               836\n",
      "preferred_foot          836\n",
      "attacking_work_rate    3230\n",
      "defensive_work_rate     836\n",
      "crossing                836\n",
      "finishing               836\n",
      "heading_accuracy        836\n",
      "short_passing           836\n",
      "volleys                2713\n",
      "dribbling               836\n",
      "curve                  2713\n",
      "free_kick_accuracy      836\n",
      "long_passing            836\n",
      "ball_control            836\n",
      "acceleration            836\n",
      "sprint_speed            836\n",
      "agility                2713\n",
      "reactions               836\n",
      "balance                2713\n",
      "shot_power              836\n",
      "jumping                2713\n",
      "stamina                 836\n",
      "strength                836\n",
      "long_shots              836\n",
      "aggression              836\n",
      "interceptions           836\n",
      "positioning             836\n",
      "vision                 2713\n",
      "penalties               836\n",
      "marking                 836\n",
      "standing_tackle         836\n",
      "sliding_tackle         2713\n",
      "gk_diving               836\n",
      "gk_handling             836\n",
      "gk_kicking              836\n",
      "gk_positioning          836\n",
      "gk_reflexes             836\n",
      "dtype: int64\n",
      "id                   0\n",
      "team_api_id          0\n",
      "team_fifa_api_id    11\n",
      "team_long_name       0\n",
      "team_short_name      0\n",
      "dtype: int64\n",
      "id                                  0\n",
      "team_fifa_api_id                    0\n",
      "team_api_id                         0\n",
      "date                                0\n",
      "buildUpPlaySpeed                    0\n",
      "buildUpPlaySpeedClass               0\n",
      "buildUpPlayDribbling              969\n",
      "buildUpPlayDribblingClass           0\n",
      "buildUpPlayPassing                  0\n",
      "buildUpPlayPassingClass             0\n",
      "buildUpPlayPositioningClass         0\n",
      "chanceCreationPassing               0\n",
      "chanceCreationPassingClass          0\n",
      "chanceCreationCrossing              0\n",
      "chanceCreationCrossingClass         0\n",
      "chanceCreationShooting              0\n",
      "chanceCreationShootingClass         0\n",
      "chanceCreationPositioningClass      0\n",
      "defencePressure                     0\n",
      "defencePressureClass                0\n",
      "defenceAggression                   0\n",
      "defenceAggressionClass              0\n",
      "defenceTeamWidth                    0\n",
      "defenceTeamWidthClass               0\n",
      "defenceDefenderLineClass            0\n",
      "dtype: int64\n"
     ]
    }
   ],
   "source": [
    "for i in [country,league,player,match,player_attributes,team,team_attributes] :\n",
    "  print(i.isnull().sum())"
   ]
  },
  {
   "cell_type": "markdown",
   "metadata": {},
   "source": [
    "plotting some values to see which is not necessary to remove later"
   ]
  },
  {
   "cell_type": "code",
   "execution_count": 9,
   "metadata": {},
   "outputs": [
    {
     "data": {
      "image/png": "[encoded data removed]",
      "text/plain": [
       "<matplotlib.figure.Figure at 0x7f45f7733a90>"
      ]
     },
     "metadata": {
      "needs_background": "light"
     },
     "output_type": "display_data"
    }
   ],
   "source": [
    "player_attributes.hist(figsize=(15,15));"
   ]
  },
  {
   "cell_type": "code",
   "execution_count": 10,
   "metadata": {},
   "outputs": [
    {
     "data": {
      "image/png": "[encoded data removed]",
      "text/plain": [
       "<matplotlib.figure.Figure at 0x7f45f43a1710>"
      ]
     },
     "metadata": {
      "needs_background": "light"
     },
     "output_type": "display_data"
    }
   ],
   "source": [
    "team.hist();"
   ]
  },
  {
   "cell_type": "code",
   "execution_count": 11,
   "metadata": {},
   "outputs": [
    {
     "data": {
      "image/png": "[encoded data removed]",
      "text/plain": [
       "<matplotlib.figure.Figure at 0x7f45f778b9b0>"
      ]
     },
     "metadata": {
      "needs_background": "light"
     },
     "output_type": "display_data"
    }
   ],
   "source": [
    "team_attributes.hist(figsize=(10,10));"
   ]
  },
  {
   "cell_type": "markdown",
   "metadata": {},
   "source": [
    "\n",
    "### Data Cleaning\n",
    "checking if some columns are identical to merge without them to decrease number of tables "
   ]
  },
  {
   "cell_type": "markdown",
   "metadata": {},
   "source": [
    "in first table checking for identical columns to remove"
   ]
  },
  {
   "cell_type": "code",
   "execution_count": 12,
   "metadata": {},
   "outputs": [
    {
     "name": "stdout",
     "output_type": "stream",
     "text": [
      "0     True\n",
      "1     True\n",
      "2     True\n",
      "3     True\n",
      "4     True\n",
      "5     True\n",
      "6     True\n",
      "7     True\n",
      "8     True\n",
      "9     True\n",
      "10    True\n",
      "dtype: bool\n"
     ]
    }
   ],
   "source": [
    "print(league['country_id']==country['id'])"
   ]
  },
  {
   "cell_type": "markdown",
   "metadata": {},
   "source": [
    "steps for merging country , league and match to use as a single new dataset"
   ]
  },
  {
   "cell_type": "code",
   "execution_count": 5,
   "metadata": {},
   "outputs": [],
   "source": [
    "country_league = pd.merge(league,country ,how ='inner',on='id' ).copy()"
   ]
  },
  {
   "cell_type": "markdown",
   "metadata": {},
   "source": [
    "putting only one column with id that is country id"
   ]
  },
  {
   "cell_type": "code",
   "execution_count": 6,
   "metadata": {},
   "outputs": [],
   "source": [
    "country_league['country_id']=country['id']"
   ]
  },
  {
   "cell_type": "code",
   "execution_count": 7,
   "metadata": {},
   "outputs": [
    {
     "data": {
      "text/html": [
       "<div>\n",
       "<style scoped>\n",
       "    .dataframe tbody tr th:only-of-type {\n",
       "        vertical-align: middle;\n",
       "    }\n",
       "\n",
       "    .dataframe tbody tr th {\n",
       "        vertical-align: top;\n",
       "    }\n",
       "\n",
       "    .dataframe thead th {\n",
       "        text-align: right;\n",
       "    }\n",
       "</style>\n",
       "<table border=\"1\" class=\"dataframe\">\n",
       "  <thead>\n",
       "    <tr style=\"text-align: right;\">\n",
       "      <th></th>\n",
       "      <th>id</th>\n",
       "      <th>country_id</th>\n",
       "      <th>name_x</th>\n",
       "      <th>name_y</th>\n",
       "    </tr>\n",
       "  </thead>\n",
       "  <tbody>\n",
       "    <tr>\n",
       "      <th>0</th>\n",
       "      <td>1</td>\n",
       "      <td>1</td>\n",
       "      <td>Belgium Jupiler League</td>\n",
       "      <td>Belgium</td>\n",
       "    </tr>\n",
       "  </tbody>\n",
       "</table>\n",
       "</div>"
      ],
      "text/plain": [
       "   id  country_id                  name_x   name_y\n",
       "0   1           1  Belgium Jupiler League  Belgium"
      ]
     },
     "execution_count": 7,
     "metadata": {},
     "output_type": "execute_result"
    }
   ],
   "source": [
    "country_league.head(1)"
   ]
  },
  {
   "cell_type": "markdown",
   "metadata": {},
   "source": [
    "renaming columns that resulted out of merging"
   ]
  },
  {
   "cell_type": "code",
   "execution_count": 8,
   "metadata": {},
   "outputs": [],
   "source": [
    "country_league.rename(columns={'name_y' : 'country_name'},inplace=True)\n",
    "country_league.rename(columns={'name_x' :'league_name'},inplace=True)"
   ]
  },
  {
   "cell_type": "code",
   "execution_count": 9,
   "metadata": {},
   "outputs": [],
   "source": [
    "country_league_match = pd.merge(match,country_league,how='left',on=['country_id'])"
   ]
  },
  {
   "cell_type": "markdown",
   "metadata": {},
   "source": [
    "seeing identical columns to remove"
   ]
  },
  {
   "cell_type": "code",
   "execution_count": 10,
   "metadata": {},
   "outputs": [
    {
     "data": {
      "text/plain": [
       "count     25979\n",
       "unique        1\n",
       "top        True\n",
       "freq      25979\n",
       "dtype: object"
      ]
     },
     "execution_count": 10,
     "metadata": {},
     "output_type": "execute_result"
    }
   ],
   "source": [
    "(country_league_match['country_id']==country_league_match['id_y']).describe()"
   ]
  },
  {
   "cell_type": "code",
   "execution_count": 11,
   "metadata": {},
   "outputs": [],
   "source": [
    "country_league_match.drop(['league_id','id_y','match_api_id','home_team_api_id','away_team_api_id'],axis=1,inplace=True)"
   ]
  },
  {
   "cell_type": "markdown",
   "metadata": {},
   "source": [
    "renaming id in country_league_match dataset"
   ]
  },
  {
   "cell_type": "code",
   "execution_count": 12,
   "metadata": {},
   "outputs": [],
   "source": [
    "country_league_match = country_league_match.rename(columns={'id_x':'id'})"
   ]
  },
  {
   "cell_type": "code",
   "execution_count": 13,
   "metadata": {},
   "outputs": [
    {
     "data": {
      "text/plain": [
       "id                     0\n",
       "country_id             0\n",
       "season                 0\n",
       "stage                  0\n",
       "date                   0\n",
       "home_team_goal         0\n",
       "away_team_goal         0\n",
       "home_player_X1      1821\n",
       "home_player_X2      1821\n",
       "home_player_X3      1832\n",
       "home_player_X4      1832\n",
       "home_player_X5      1832\n",
       "home_player_X6      1832\n",
       "home_player_X7      1832\n",
       "home_player_X8      1832\n",
       "home_player_X9      1832\n",
       "home_player_X10     1832\n",
       "home_player_X11     1832\n",
       "away_player_X1      1832\n",
       "away_player_X2      1832\n",
       "away_player_X3      1832\n",
       "away_player_X4      1832\n",
       "away_player_X5      1832\n",
       "away_player_X6      1832\n",
       "away_player_X7      1832\n",
       "away_player_X8      1832\n",
       "away_player_X9      1833\n",
       "away_player_X10     1833\n",
       "away_player_X11     1839\n",
       "home_player_Y1      1821\n",
       "                   ...  \n",
       "B365A               3387\n",
       "BWH                 3404\n",
       "BWD                 3404\n",
       "BWA                 3404\n",
       "IWH                 3459\n",
       "IWD                 3459\n",
       "IWA                 3459\n",
       "LBH                 3423\n",
       "LBD                 3423\n",
       "LBA                 3423\n",
       "PSH                14811\n",
       "PSD                14811\n",
       "PSA                14811\n",
       "WHH                 3408\n",
       "WHD                 3408\n",
       "WHA                 3408\n",
       "SJH                 8882\n",
       "SJD                 8882\n",
       "SJA                 8882\n",
       "VCH                 3411\n",
       "VCD                 3411\n",
       "VCA                 3411\n",
       "GBH                11817\n",
       "GBD                11817\n",
       "GBA                11817\n",
       "BSH                11818\n",
       "BSD                11818\n",
       "BSA                11818\n",
       "league_name            0\n",
       "country_name           0\n",
       "Length: 113, dtype: int64"
      ]
     },
     "execution_count": 13,
     "metadata": {},
     "output_type": "execute_result"
    }
   ],
   "source": [
    "country_league_match.isnull().sum()"
   ]
  },
  {
   "cell_type": "markdown",
   "metadata": {},
   "source": [
    "dropping all nans as i won't need them in my questions"
   ]
  },
  {
   "cell_type": "code",
   "execution_count": 14,
   "metadata": {},
   "outputs": [],
   "source": [
    "country_league_match.dropna(inplace=True)"
   ]
  },
  {
   "cell_type": "markdown",
   "metadata": {},
   "source": [
    "dropping all columns i won't need in my conclusion"
   ]
  },
  {
   "cell_type": "code",
   "execution_count": 15,
   "metadata": {},
   "outputs": [],
   "source": [
    "country_league_match.drop(country_league_match.loc[:, 'home_player_X1':'away_player_11'], inplace = True, axis = 1)"
   ]
  },
  {
   "cell_type": "code",
   "execution_count": 16,
   "metadata": {},
   "outputs": [],
   "source": [
    "country_league_match.drop(country_league_match.loc[:,'B365H':'BSA'], inplace = True, axis = 1)"
   ]
  },
  {
   "cell_type": "code",
   "execution_count": 17,
   "metadata": {},
   "outputs": [],
   "source": [
    "country_league_match.drop(country_league_match.loc[:,'goal':'possession'],axis=1,inplace=True)"
   ]
  },
  {
   "cell_type": "markdown",
   "metadata": {},
   "source": [
    "mearging team with team attributes and cleaning them"
   ]
  },
  {
   "cell_type": "code",
   "execution_count": 18,
   "metadata": {},
   "outputs": [],
   "source": [
    "teams=pd.merge(team_attributes,team,how='right',on=['team_api_id'])"
   ]
  },
  {
   "cell_type": "code",
   "execution_count": 19,
   "metadata": {},
   "outputs": [
    {
     "data": {
      "text/html": [
       "<div>\n",
       "<style scoped>\n",
       "    .dataframe tbody tr th:only-of-type {\n",
       "        vertical-align: middle;\n",
       "    }\n",
       "\n",
       "    .dataframe tbody tr th {\n",
       "        vertical-align: top;\n",
       "    }\n",
       "\n",
       "    .dataframe thead th {\n",
       "        text-align: right;\n",
       "    }\n",
       "</style>\n",
       "<table border=\"1\" class=\"dataframe\">\n",
       "  <thead>\n",
       "    <tr style=\"text-align: right;\">\n",
       "      <th></th>\n",
       "      <th>id_x</th>\n",
       "      <th>team_fifa_api_id_x</th>\n",
       "      <th>team_api_id</th>\n",
       "      <th>date</th>\n",
       "      <th>buildUpPlaySpeed</th>\n",
       "      <th>buildUpPlaySpeedClass</th>\n",
       "      <th>buildUpPlayDribbling</th>\n",
       "      <th>buildUpPlayDribblingClass</th>\n",
       "      <th>buildUpPlayPassing</th>\n",
       "      <th>buildUpPlayPassingClass</th>\n",
       "      <th>...</th>\n",
       "      <th>defencePressureClass</th>\n",
       "      <th>defenceAggression</th>\n",
       "      <th>defenceAggressionClass</th>\n",
       "      <th>defenceTeamWidth</th>\n",
       "      <th>defenceTeamWidthClass</th>\n",
       "      <th>defenceDefenderLineClass</th>\n",
       "      <th>id_y</th>\n",
       "      <th>team_fifa_api_id_y</th>\n",
       "      <th>team_long_name</th>\n",
       "      <th>team_short_name</th>\n",
       "    </tr>\n",
       "  </thead>\n",
       "  <tbody>\n",
       "    <tr>\n",
       "      <th>0</th>\n",
       "      <td>1.0</td>\n",
       "      <td>434.0</td>\n",
       "      <td>9930</td>\n",
       "      <td>2010-02-22 00:00:00</td>\n",
       "      <td>60.0</td>\n",
       "      <td>Balanced</td>\n",
       "      <td>NaN</td>\n",
       "      <td>Little</td>\n",
       "      <td>50.0</td>\n",
       "      <td>Mixed</td>\n",
       "      <td>...</td>\n",
       "      <td>Medium</td>\n",
       "      <td>55.0</td>\n",
       "      <td>Press</td>\n",
       "      <td>45.0</td>\n",
       "      <td>Normal</td>\n",
       "      <td>Cover</td>\n",
       "      <td>49119</td>\n",
       "      <td>434.0</td>\n",
       "      <td>FC Aarau</td>\n",
       "      <td>AAR</td>\n",
       "    </tr>\n",
       "    <tr>\n",
       "      <th>1</th>\n",
       "      <td>2.0</td>\n",
       "      <td>434.0</td>\n",
       "      <td>9930</td>\n",
       "      <td>2014-09-19 00:00:00</td>\n",
       "      <td>52.0</td>\n",
       "      <td>Balanced</td>\n",
       "      <td>48.0</td>\n",
       "      <td>Normal</td>\n",
       "      <td>56.0</td>\n",
       "      <td>Mixed</td>\n",
       "      <td>...</td>\n",
       "      <td>Medium</td>\n",
       "      <td>44.0</td>\n",
       "      <td>Press</td>\n",
       "      <td>54.0</td>\n",
       "      <td>Normal</td>\n",
       "      <td>Cover</td>\n",
       "      <td>49119</td>\n",
       "      <td>434.0</td>\n",
       "      <td>FC Aarau</td>\n",
       "      <td>AAR</td>\n",
       "    </tr>\n",
       "    <tr>\n",
       "      <th>2</th>\n",
       "      <td>3.0</td>\n",
       "      <td>434.0</td>\n",
       "      <td>9930</td>\n",
       "      <td>2015-09-10 00:00:00</td>\n",
       "      <td>47.0</td>\n",
       "      <td>Balanced</td>\n",
       "      <td>41.0</td>\n",
       "      <td>Normal</td>\n",
       "      <td>54.0</td>\n",
       "      <td>Mixed</td>\n",
       "      <td>...</td>\n",
       "      <td>Medium</td>\n",
       "      <td>44.0</td>\n",
       "      <td>Press</td>\n",
       "      <td>54.0</td>\n",
       "      <td>Normal</td>\n",
       "      <td>Cover</td>\n",
       "      <td>49119</td>\n",
       "      <td>434.0</td>\n",
       "      <td>FC Aarau</td>\n",
       "      <td>AAR</td>\n",
       "    </tr>\n",
       "    <tr>\n",
       "      <th>3</th>\n",
       "      <td>4.0</td>\n",
       "      <td>77.0</td>\n",
       "      <td>8485</td>\n",
       "      <td>2010-02-22 00:00:00</td>\n",
       "      <td>70.0</td>\n",
       "      <td>Fast</td>\n",
       "      <td>NaN</td>\n",
       "      <td>Little</td>\n",
       "      <td>70.0</td>\n",
       "      <td>Long</td>\n",
       "      <td>...</td>\n",
       "      <td>Medium</td>\n",
       "      <td>70.0</td>\n",
       "      <td>Double</td>\n",
       "      <td>70.0</td>\n",
       "      <td>Wide</td>\n",
       "      <td>Cover</td>\n",
       "      <td>39393</td>\n",
       "      <td>77.0</td>\n",
       "      <td>Aberdeen</td>\n",
       "      <td>ABE</td>\n",
       "    </tr>\n",
       "    <tr>\n",
       "      <th>4</th>\n",
       "      <td>5.0</td>\n",
       "      <td>77.0</td>\n",
       "      <td>8485</td>\n",
       "      <td>2011-02-22 00:00:00</td>\n",
       "      <td>47.0</td>\n",
       "      <td>Balanced</td>\n",
       "      <td>NaN</td>\n",
       "      <td>Little</td>\n",
       "      <td>52.0</td>\n",
       "      <td>Mixed</td>\n",
       "      <td>...</td>\n",
       "      <td>Medium</td>\n",
       "      <td>47.0</td>\n",
       "      <td>Press</td>\n",
       "      <td>52.0</td>\n",
       "      <td>Normal</td>\n",
       "      <td>Cover</td>\n",
       "      <td>39393</td>\n",
       "      <td>77.0</td>\n",
       "      <td>Aberdeen</td>\n",
       "      <td>ABE</td>\n",
       "    </tr>\n",
       "  </tbody>\n",
       "</table>\n",
       "<p>5 rows × 29 columns</p>\n",
       "</div>"
      ],
      "text/plain": [
       "   id_x  team_fifa_api_id_x  team_api_id                 date  \\\n",
       "0   1.0               434.0         9930  2010-02-22 00:00:00   \n",
       "1   2.0               434.0         9930  2014-09-19 00:00:00   \n",
       "2   3.0               434.0         9930  2015-09-10 00:00:00   \n",
       "3   4.0                77.0         8485  2010-02-22 00:00:00   \n",
       "4   5.0                77.0         8485  2011-02-22 00:00:00   \n",
       "\n",
       "   buildUpPlaySpeed buildUpPlaySpeedClass  buildUpPlayDribbling  \\\n",
       "0              60.0              Balanced                   NaN   \n",
       "1              52.0              Balanced                  48.0   \n",
       "2              47.0              Balanced                  41.0   \n",
       "3              70.0                  Fast                   NaN   \n",
       "4              47.0              Balanced                   NaN   \n",
       "\n",
       "  buildUpPlayDribblingClass  buildUpPlayPassing buildUpPlayPassingClass  \\\n",
       "0                    Little                50.0                   Mixed   \n",
       "1                    Normal                56.0                   Mixed   \n",
       "2                    Normal                54.0                   Mixed   \n",
       "3                    Little                70.0                    Long   \n",
       "4                    Little                52.0                   Mixed   \n",
       "\n",
       "        ...       defencePressureClass  defenceAggression  \\\n",
       "0       ...                     Medium               55.0   \n",
       "1       ...                     Medium               44.0   \n",
       "2       ...                     Medium               44.0   \n",
       "3       ...                     Medium               70.0   \n",
       "4       ...                     Medium               47.0   \n",
       "\n",
       "  defenceAggressionClass  defenceTeamWidth defenceTeamWidthClass  \\\n",
       "0                  Press              45.0                Normal   \n",
       "1                  Press              54.0                Normal   \n",
       "2                  Press              54.0                Normal   \n",
       "3                 Double              70.0                  Wide   \n",
       "4                  Press              52.0                Normal   \n",
       "\n",
       "   defenceDefenderLineClass   id_y team_fifa_api_id_y  team_long_name  \\\n",
       "0                     Cover  49119              434.0        FC Aarau   \n",
       "1                     Cover  49119              434.0        FC Aarau   \n",
       "2                     Cover  49119              434.0        FC Aarau   \n",
       "3                     Cover  39393               77.0        Aberdeen   \n",
       "4                     Cover  39393               77.0        Aberdeen   \n",
       "\n",
       "  team_short_name  \n",
       "0             AAR  \n",
       "1             AAR  \n",
       "2             AAR  \n",
       "3             ABE  \n",
       "4             ABE  \n",
       "\n",
       "[5 rows x 29 columns]"
      ]
     },
     "execution_count": 19,
     "metadata": {},
     "output_type": "execute_result"
    }
   ],
   "source": [
    "teams.head()"
   ]
  },
  {
   "cell_type": "code",
   "execution_count": 20,
   "metadata": {},
   "outputs": [],
   "source": [
    "teams.drop(['team_fifa_api_id_x','id_x','team_fifa_api_id_y','id_y','buildUpPlayDribbling'],axis=1,inplace=True)"
   ]
  },
  {
   "cell_type": "code",
   "execution_count": 21,
   "metadata": {},
   "outputs": [],
   "source": [
    "teams.dropna(inplace=True)"
   ]
  },
  {
   "cell_type": "markdown",
   "metadata": {},
   "source": [
    "merging players and player_attributes to get relation between player and penalties"
   ]
  },
  {
   "cell_type": "code",
   "execution_count": 22,
   "metadata": {},
   "outputs": [],
   "source": [
    "player_attributes.drop(['player_fifa_api_id','sliding_tackle','gk_diving','gk_handling','gk_kicking','gk_positioning','marking','standing_tackle','gk_reflexes'],axis=1,inplace=True)"
   ]
  },
  {
   "cell_type": "code",
   "execution_count": 23,
   "metadata": {},
   "outputs": [
    {
     "data": {
      "text/plain": [
       "id                        0\n",
       "player_api_id             0\n",
       "date                      0\n",
       "overall_rating          836\n",
       "potential               836\n",
       "preferred_foot          836\n",
       "attacking_work_rate    3230\n",
       "defensive_work_rate     836\n",
       "crossing                836\n",
       "finishing               836\n",
       "heading_accuracy        836\n",
       "short_passing           836\n",
       "volleys                2713\n",
       "dribbling               836\n",
       "curve                  2713\n",
       "free_kick_accuracy      836\n",
       "long_passing            836\n",
       "ball_control            836\n",
       "acceleration            836\n",
       "sprint_speed            836\n",
       "agility                2713\n",
       "reactions               836\n",
       "balance                2713\n",
       "shot_power              836\n",
       "jumping                2713\n",
       "stamina                 836\n",
       "strength                836\n",
       "long_shots              836\n",
       "aggression              836\n",
       "interceptions           836\n",
       "positioning             836\n",
       "vision                 2713\n",
       "penalties               836\n",
       "dtype: int64"
      ]
     },
     "execution_count": 23,
     "metadata": {},
     "output_type": "execute_result"
    }
   ],
   "source": [
    "player_attributes.isnull().sum()"
   ]
  },
  {
   "cell_type": "markdown",
   "metadata": {},
   "source": [
    "dropping columns with nan values"
   ]
  },
  {
   "cell_type": "code",
   "execution_count": 24,
   "metadata": {},
   "outputs": [],
   "source": [
    "player_attributes.drop(['attacking_work_rate', 'defensive_work_rate', 'crossing', 'finishing',\n",
    "       'heading_accuracy', 'short_passing', 'volleys', 'dribbling', 'curve',\n",
    "       'free_kick_accuracy', 'long_passing', 'ball_control', 'acceleration',\n",
    "       'sprint_speed', 'agility', 'reactions', 'balance', 'shot_power'],axis=1,inplace=True)"
   ]
  },
  {
   "cell_type": "code",
   "execution_count": 25,
   "metadata": {},
   "outputs": [],
   "source": [
    "players = pd.merge(player,player_attributes,how='right',on=['player_api_id'])"
   ]
  },
  {
   "cell_type": "code",
   "execution_count": 26,
   "metadata": {},
   "outputs": [
    {
     "data": {
      "text/html": [
       "<div>\n",
       "<style scoped>\n",
       "    .dataframe tbody tr th:only-of-type {\n",
       "        vertical-align: middle;\n",
       "    }\n",
       "\n",
       "    .dataframe tbody tr th {\n",
       "        vertical-align: top;\n",
       "    }\n",
       "\n",
       "    .dataframe thead th {\n",
       "        text-align: right;\n",
       "    }\n",
       "</style>\n",
       "<table border=\"1\" class=\"dataframe\">\n",
       "  <thead>\n",
       "    <tr style=\"text-align: right;\">\n",
       "      <th></th>\n",
       "      <th>id_x</th>\n",
       "      <th>player_api_id</th>\n",
       "      <th>player_name</th>\n",
       "      <th>player_fifa_api_id</th>\n",
       "      <th>birthday</th>\n",
       "      <th>height</th>\n",
       "      <th>weight</th>\n",
       "      <th>id_y</th>\n",
       "      <th>date</th>\n",
       "      <th>overall_rating</th>\n",
       "      <th>...</th>\n",
       "      <th>preferred_foot</th>\n",
       "      <th>jumping</th>\n",
       "      <th>stamina</th>\n",
       "      <th>strength</th>\n",
       "      <th>long_shots</th>\n",
       "      <th>aggression</th>\n",
       "      <th>interceptions</th>\n",
       "      <th>positioning</th>\n",
       "      <th>vision</th>\n",
       "      <th>penalties</th>\n",
       "    </tr>\n",
       "  </thead>\n",
       "  <tbody>\n",
       "    <tr>\n",
       "      <th>0</th>\n",
       "      <td>1</td>\n",
       "      <td>505942</td>\n",
       "      <td>Aaron Appindangoye</td>\n",
       "      <td>218353</td>\n",
       "      <td>1992-02-29 00:00:00</td>\n",
       "      <td>182.88</td>\n",
       "      <td>187</td>\n",
       "      <td>1</td>\n",
       "      <td>2016-02-18 00:00:00</td>\n",
       "      <td>67.0</td>\n",
       "      <td>...</td>\n",
       "      <td>right</td>\n",
       "      <td>58.0</td>\n",
       "      <td>54.0</td>\n",
       "      <td>76.0</td>\n",
       "      <td>35.0</td>\n",
       "      <td>71.0</td>\n",
       "      <td>70.0</td>\n",
       "      <td>45.0</td>\n",
       "      <td>54.0</td>\n",
       "      <td>48.0</td>\n",
       "    </tr>\n",
       "    <tr>\n",
       "      <th>1</th>\n",
       "      <td>1</td>\n",
       "      <td>505942</td>\n",
       "      <td>Aaron Appindangoye</td>\n",
       "      <td>218353</td>\n",
       "      <td>1992-02-29 00:00:00</td>\n",
       "      <td>182.88</td>\n",
       "      <td>187</td>\n",
       "      <td>2</td>\n",
       "      <td>2015-11-19 00:00:00</td>\n",
       "      <td>67.0</td>\n",
       "      <td>...</td>\n",
       "      <td>right</td>\n",
       "      <td>58.0</td>\n",
       "      <td>54.0</td>\n",
       "      <td>76.0</td>\n",
       "      <td>35.0</td>\n",
       "      <td>71.0</td>\n",
       "      <td>70.0</td>\n",
       "      <td>45.0</td>\n",
       "      <td>54.0</td>\n",
       "      <td>48.0</td>\n",
       "    </tr>\n",
       "    <tr>\n",
       "      <th>2</th>\n",
       "      <td>1</td>\n",
       "      <td>505942</td>\n",
       "      <td>Aaron Appindangoye</td>\n",
       "      <td>218353</td>\n",
       "      <td>1992-02-29 00:00:00</td>\n",
       "      <td>182.88</td>\n",
       "      <td>187</td>\n",
       "      <td>3</td>\n",
       "      <td>2015-09-21 00:00:00</td>\n",
       "      <td>62.0</td>\n",
       "      <td>...</td>\n",
       "      <td>right</td>\n",
       "      <td>58.0</td>\n",
       "      <td>54.0</td>\n",
       "      <td>76.0</td>\n",
       "      <td>35.0</td>\n",
       "      <td>63.0</td>\n",
       "      <td>41.0</td>\n",
       "      <td>45.0</td>\n",
       "      <td>54.0</td>\n",
       "      <td>48.0</td>\n",
       "    </tr>\n",
       "    <tr>\n",
       "      <th>3</th>\n",
       "      <td>1</td>\n",
       "      <td>505942</td>\n",
       "      <td>Aaron Appindangoye</td>\n",
       "      <td>218353</td>\n",
       "      <td>1992-02-29 00:00:00</td>\n",
       "      <td>182.88</td>\n",
       "      <td>187</td>\n",
       "      <td>4</td>\n",
       "      <td>2015-03-20 00:00:00</td>\n",
       "      <td>61.0</td>\n",
       "      <td>...</td>\n",
       "      <td>right</td>\n",
       "      <td>58.0</td>\n",
       "      <td>54.0</td>\n",
       "      <td>76.0</td>\n",
       "      <td>34.0</td>\n",
       "      <td>62.0</td>\n",
       "      <td>40.0</td>\n",
       "      <td>44.0</td>\n",
       "      <td>53.0</td>\n",
       "      <td>47.0</td>\n",
       "    </tr>\n",
       "    <tr>\n",
       "      <th>4</th>\n",
       "      <td>1</td>\n",
       "      <td>505942</td>\n",
       "      <td>Aaron Appindangoye</td>\n",
       "      <td>218353</td>\n",
       "      <td>1992-02-29 00:00:00</td>\n",
       "      <td>182.88</td>\n",
       "      <td>187</td>\n",
       "      <td>5</td>\n",
       "      <td>2007-02-22 00:00:00</td>\n",
       "      <td>61.0</td>\n",
       "      <td>...</td>\n",
       "      <td>right</td>\n",
       "      <td>58.0</td>\n",
       "      <td>54.0</td>\n",
       "      <td>76.0</td>\n",
       "      <td>34.0</td>\n",
       "      <td>62.0</td>\n",
       "      <td>40.0</td>\n",
       "      <td>44.0</td>\n",
       "      <td>53.0</td>\n",
       "      <td>47.0</td>\n",
       "    </tr>\n",
       "  </tbody>\n",
       "</table>\n",
       "<p>5 rows × 21 columns</p>\n",
       "</div>"
      ],
      "text/plain": [
       "   id_x  player_api_id         player_name  player_fifa_api_id  \\\n",
       "0     1         505942  Aaron Appindangoye              218353   \n",
       "1     1         505942  Aaron Appindangoye              218353   \n",
       "2     1         505942  Aaron Appindangoye              218353   \n",
       "3     1         505942  Aaron Appindangoye              218353   \n",
       "4     1         505942  Aaron Appindangoye              218353   \n",
       "\n",
       "              birthday  height  weight  id_y                 date  \\\n",
       "0  1992-02-29 00:00:00  182.88     187     1  2016-02-18 00:00:00   \n",
       "1  1992-02-29 00:00:00  182.88     187     2  2015-11-19 00:00:00   \n",
       "2  1992-02-29 00:00:00  182.88     187     3  2015-09-21 00:00:00   \n",
       "3  1992-02-29 00:00:00  182.88     187     4  2015-03-20 00:00:00   \n",
       "4  1992-02-29 00:00:00  182.88     187     5  2007-02-22 00:00:00   \n",
       "\n",
       "   overall_rating    ...      preferred_foot jumping  stamina  strength  \\\n",
       "0            67.0    ...               right    58.0     54.0      76.0   \n",
       "1            67.0    ...               right    58.0     54.0      76.0   \n",
       "2            62.0    ...               right    58.0     54.0      76.0   \n",
       "3            61.0    ...               right    58.0     54.0      76.0   \n",
       "4            61.0    ...               right    58.0     54.0      76.0   \n",
       "\n",
       "   long_shots  aggression  interceptions  positioning  vision  penalties  \n",
       "0        35.0        71.0           70.0         45.0    54.0       48.0  \n",
       "1        35.0        71.0           70.0         45.0    54.0       48.0  \n",
       "2        35.0        63.0           41.0         45.0    54.0       48.0  \n",
       "3        34.0        62.0           40.0         44.0    53.0       47.0  \n",
       "4        34.0        62.0           40.0         44.0    53.0       47.0  \n",
       "\n",
       "[5 rows x 21 columns]"
      ]
     },
     "execution_count": 26,
     "metadata": {},
     "output_type": "execute_result"
    }
   ],
   "source": [
    "players.head()"
   ]
  },
  {
   "cell_type": "code",
   "execution_count": 27,
   "metadata": {},
   "outputs": [],
   "source": [
    "players.dropna(inplace=True)"
   ]
  },
  {
   "cell_type": "markdown",
   "metadata": {},
   "source": [
    " <a id='eda'></a>\n",
    "## Exploratory Data Analysis\n",
    " <a id='eda'></a>\n",
    "### which countrys have the largest number of home town goals ?"
   ]
  },
  {
   "cell_type": "markdown",
   "metadata": {},
   "source": [
    "Making a plotting function to reduce repetition that takes the dataset number and and two column names\n",
    "to groupby, that are sent to it as a string"
   ]
  },
  {
   "cell_type": "code",
   "execution_count": 33,
   "metadata": {},
   "outputs": [],
   "source": [
    "def plotting(x,y,z):\n",
    "   x.groupby(y)[z].count().plot(kind='bar',width=.5 , alpha=1);"
   ]
  },
  {
   "cell_type": "markdown",
   "metadata": {},
   "source": [
    "inspecting country_league_match dataset to get the country with highest number of goals"
   ]
  },
  {
   "cell_type": "code",
   "execution_count": 34,
   "metadata": {
    "scrolled": true
   },
   "outputs": [
    {
     "data": {
      "text/html": [
       "<div>\n",
       "<style scoped>\n",
       "    .dataframe tbody tr th:only-of-type {\n",
       "        vertical-align: middle;\n",
       "    }\n",
       "\n",
       "    .dataframe tbody tr th {\n",
       "        vertical-align: top;\n",
       "    }\n",
       "\n",
       "    .dataframe thead th {\n",
       "        text-align: right;\n",
       "    }\n",
       "</style>\n",
       "<table border=\"1\" class=\"dataframe\">\n",
       "  <thead>\n",
       "    <tr style=\"text-align: right;\">\n",
       "      <th></th>\n",
       "      <th>id</th>\n",
       "      <th>country_id</th>\n",
       "      <th>season</th>\n",
       "      <th>stage</th>\n",
       "      <th>date</th>\n",
       "      <th>home_team_goal</th>\n",
       "      <th>away_team_goal</th>\n",
       "      <th>league_name</th>\n",
       "      <th>country_name</th>\n",
       "    </tr>\n",
       "  </thead>\n",
       "  <tbody>\n",
       "    <tr>\n",
       "      <th>3248</th>\n",
       "      <td>3249</td>\n",
       "      <td>1729</td>\n",
       "      <td>2012/2013</td>\n",
       "      <td>1</td>\n",
       "      <td>2012-08-18 00:00:00</td>\n",
       "      <td>0</td>\n",
       "      <td>0</td>\n",
       "      <td>England Premier League</td>\n",
       "      <td>England</td>\n",
       "    </tr>\n",
       "    <tr>\n",
       "      <th>3249</th>\n",
       "      <td>3250</td>\n",
       "      <td>1729</td>\n",
       "      <td>2012/2013</td>\n",
       "      <td>1</td>\n",
       "      <td>2012-08-20 00:00:00</td>\n",
       "      <td>1</td>\n",
       "      <td>0</td>\n",
       "      <td>England Premier League</td>\n",
       "      <td>England</td>\n",
       "    </tr>\n",
       "    <tr>\n",
       "      <th>3250</th>\n",
       "      <td>3251</td>\n",
       "      <td>1729</td>\n",
       "      <td>2012/2013</td>\n",
       "      <td>1</td>\n",
       "      <td>2012-08-18 00:00:00</td>\n",
       "      <td>5</td>\n",
       "      <td>0</td>\n",
       "      <td>England Premier League</td>\n",
       "      <td>England</td>\n",
       "    </tr>\n",
       "  </tbody>\n",
       "</table>\n",
       "</div>"
      ],
      "text/plain": [
       "        id  country_id     season  stage                 date  home_team_goal  \\\n",
       "3248  3249        1729  2012/2013      1  2012-08-18 00:00:00               0   \n",
       "3249  3250        1729  2012/2013      1  2012-08-20 00:00:00               1   \n",
       "3250  3251        1729  2012/2013      1  2012-08-18 00:00:00               5   \n",
       "\n",
       "      away_team_goal             league_name country_name  \n",
       "3248               0  England Premier League      England  \n",
       "3249               0  England Premier League      England  \n",
       "3250               0  England Premier League      England  "
      ]
     },
     "execution_count": 34,
     "metadata": {},
     "output_type": "execute_result"
    }
   ],
   "source": [
    "country_league_match.head(3)"
   ]
  },
  {
   "cell_type": "markdown",
   "metadata": {},
   "source": [
    "### Finding\n",
    "plotting relation between home team goals and country and as shown England has \n",
    "the highest number of home team goals and Spain and Italy has the same number of goals \n",
    "and Germany has the lowest number "
   ]
  },
  {
   "cell_type": "code",
   "execution_count": 35,
   "metadata": {
    "scrolled": true
   },
   "outputs": [
    {
     "data": {
      "image/png": "[encoded data removed]",
      "text/plain": [
       "<matplotlib.figure.Figure at 0x7fa7f5fb0a90>"
      ]
     },
     "metadata": {
      "needs_background": "light"
     },
     "output_type": "display_data"
    }
   ],
   "source": [
    "plotting(country_league_match,'country_name','home_team_goal')\n",
    "plt.title('countrys vs number of home team goals');\n",
    "plt.xlabel('country name',fontsize=12);\n",
    "plt.ylabel('goals number',fontsize=12);\n",
    "sns.set_style('darkgrid')"
   ]
  },
  {
   "cell_type": "markdown",
   "metadata": {},
   "source": [
    "### Finding\n",
    "plotting relation between team goals and country and as shown England has \n",
    "the highest number of away team goals and Spain and Italy has the same number of goals \n",
    "and Germany has the lowest number "
   ]
  },
  {
   "cell_type": "code",
   "execution_count": 37,
   "metadata": {},
   "outputs": [
    {
     "data": {
      "image/png": "[encoded data removed]",
      "text/plain": [
       "<matplotlib.figure.Figure at 0x7fa7f5ec6278>"
      ]
     },
     "metadata": {},
     "output_type": "display_data"
    }
   ],
   "source": [
    "plotting(country_league_match,'country_name','away_team_goal')\n",
    "plt.title('countrys vs number of away team goals');\n",
    "plt.xlabel('country name',fontsize=12);\n",
    "plt.ylabel('goals number',fontsize=12);\n",
    "sns.set_style('darkgrid')"
   ]
  },
  {
   "cell_type": "markdown",
   "metadata": {},
   "source": [
    "### Finding\n",
    "It seems that goals are max in England and min in Germany due to number of matches they went \n",
    "into not beacaues of talent or any else"
   ]
  },
  {
   "cell_type": "code",
   "execution_count": 38,
   "metadata": {},
   "outputs": [
    {
     "data": {
      "image/png": "[encoded data removed]",
      "text/plain": [
       "<matplotlib.figure.Figure at 0x7fa7f5e96c50>"
      ]
     },
     "metadata": {},
     "output_type": "display_data"
    }
   ],
   "source": [
    "country_league_match['country_name'].hist();\n",
    "plt.title('countrys vs number of repitition');\n",
    "plt.xlabel('country name',fontsize=12);\n",
    "plt.ylabel('number of repetition',fontsize=12);"
   ]
  },
  {
   "cell_type": "markdown",
   "metadata": {},
   "source": [
    "### Finding\n",
    "Germany is the lowest in matches that has been through and the has lowest goals and England has the max\n",
    "Spain and Italy have the same number of matches"
   ]
  },
  {
   "cell_type": "markdown",
   "metadata": {},
   "source": [
    "### what is the most common speed between teams?"
   ]
  },
  {
   "cell_type": "markdown",
   "metadata": {},
   "source": [
    "### Finding\n",
    "As shown balanced speed is the most common between teams after plotting teams speed against number of team"
   ]
  },
  {
   "cell_type": "code",
   "execution_count": 39,
   "metadata": {},
   "outputs": [
    {
     "data": {
      "image/png": "[encoded data removed]",
      "text/plain": [
       "<matplotlib.figure.Figure at 0x7fa7f5e3e860>"
      ]
     },
     "metadata": {},
     "output_type": "display_data"
    }
   ],
   "source": [
    "plotting(teams,'buildUpPlaySpeedClass','team_long_name')\n",
    "plt.title('speed vs number of teams',fontsize=15);\n",
    "plt.xlabel('speed class',fontsize=15);\n",
    "plt.ylabel('number of teams',fontsize=15);"
   ]
  },
  {
   "cell_type": "markdown",
   "metadata": {},
   "source": [
    "### Finding\n",
    "As observed from the graph there is a big difference between teams of balanced speed and of slow and fast speed"
   ]
  },
  {
   "cell_type": "markdown",
   "metadata": {},
   "source": [
    "### Who are players with least and max penalties ?"
   ]
  },
  {
   "cell_type": "code",
   "execution_count": 38,
   "metadata": {},
   "outputs": [
    {
     "data": {
      "text/plain": [
       "count    181265.000000\n",
       "mean         54.935950\n",
       "std          15.558855\n",
       "min           2.000000\n",
       "25%          45.000000\n",
       "50%          57.000000\n",
       "75%          67.000000\n",
       "max          96.000000\n",
       "Name: penalties, dtype: float64"
      ]
     },
     "execution_count": 38,
     "metadata": {},
     "output_type": "execute_result"
    }
   ],
   "source": [
    "players['penalties'].describe()"
   ]
  },
  {
   "cell_type": "markdown",
   "metadata": {},
   "source": [
    "cutting penalties values into a group of four values to determine penalties ratio"
   ]
  },
  {
   "cell_type": "code",
   "execution_count": 10,
   "metadata": {},
   "outputs": [],
   "source": [
    "penalties=[ 2.000000,45.000000,57.000000,67.000000,96.000000]\n",
    "bins = ['low','medium','high','max']\n",
    "players['penalties_level'] = pd.cut(players['penalties'],penalties,labels=bins)"
   ]
  },
  {
   "cell_type": "markdown",
   "metadata": {},
   "source": [
    "plotting the grouped data after sorting them to get the lowest value"
   ]
  },
  {
   "cell_type": "code",
   "execution_count": 20,
   "metadata": {},
   "outputs": [
    {
     "data": {
      "text/plain": [
       "Text(0,0.5,'number of repetitin')"
      ]
     },
     "execution_count": 20,
     "metadata": {},
     "output_type": "execute_result"
    },
    {
     "data": {
      "image/png": "[encoded data removed]",
      "text/plain": [
       "<matplotlib.figure.Figure at 0x7f2ed09a6438>"
      ]
     },
     "metadata": {
      "needs_background": "light"
     },
     "output_type": "display_data"
    }
   ],
   "source": [
    "players.sort_values(by='penalties_level',ascending=False).groupby('penalties_level')['player_name'].value_counts()[0:20].plot(kind='bar');\n",
    "plt.title('counting players penalties ',fontsize=(12));\n",
    "plt.xlabel('players names and penalties levels',fontsize=(12));\n",
    "plt.ylabel('number of repetitin',fontsize=(12));"
   ]
  },
  {
   "cell_type": "markdown",
   "metadata": {},
   "source": [
    "### Finding\n",
    "So the least player to have penalties is Ricardo and most players with low penalties\n",
    "\n",
    "have close values of penalties number of times"
   ]
  },
  {
   "cell_type": "markdown",
   "metadata": {},
   "source": [
    "getting max value of each section of the groupedby data "
   ]
  },
  {
   "cell_type": "code",
   "execution_count": 46,
   "metadata": {},
   "outputs": [
    {
     "data": {
      "text/plain": [
       "penalties_level\n",
       "low              Ricardo\n",
       "medium         Guilherme\n",
       "high      Moussa Dembele\n",
       "max        Alessio Cerci\n",
       "Name: player_name, dtype: object"
      ]
     },
     "execution_count": 46,
     "metadata": {},
     "output_type": "execute_result"
    }
   ],
   "source": [
    "players.groupby('penalties_level')['player_name'].agg(lambda x:x.value_counts().index[0])"
   ]
  },
  {
   "cell_type": "markdown",
   "metadata": {},
   "source": [
    "### Finding\n",
    "The player with max penalty is Alessio Cerci and min penalty is Ricardo and as shown most players have low penalties"
   ]
  },
  {
   "cell_type": "markdown",
   "metadata": {},
   "source": [
    "# conclusions\n",
    "Team goals in countrys dont differ because of the teams lacking  but because of number of matches countrys went into\n",
    "\n",
    "so we can make additional research on more countrys with small number of matches to participate in to get better results .\n",
    "\n",
    "Least player to get penalties is Ricardo and the player with max penalty is Alessio Cerci and at least half\n",
    "\n",
    "of players get penalties higher than the average .\n",
    "\n",
    "The most common speed between player is balanced speed and there is a big difference between teams of balanced speed and of \n",
    "\n",
    "slow and fast speed so i think further research would be better on the relation between player speed and team goals .\n",
    "\n",
    "# limitations\n",
    "Huge number of columns and data that is from the original dataset that made it difficult in the cropped dataset to explore and \n",
    "\n",
    "clean  like all columns with name of api_id and many rows with nan values \n",
    "\n",
    "Also the distribution of the data between multiple tables needed aditional time to merge the data to be able to explore it \n",
    "\n",
    "easily and foreign and primary keys in these tables weren't very clear\n"
   ]
  },
  {
   "cell_type": "code",
   "execution_count": 40,
   "metadata": {},
   "outputs": [
    {
     "data": {
      "text/plain": [
       "0"
      ]
     },
     "execution_count": 40,
     "metadata": {},
     "output_type": "execute_result"
    }
   ],
   "source": [
    "from subprocess import call\n",
    "call(['python', '-m', 'nbconvert', 'Investigate_a_Dataset.ipynb'])"
   ]
  },
  {
   "cell_type": "code",
   "execution_count": null,
   "metadata": {},
   "outputs": [],
   "source": []
  }
 ],
 "metadata": {
  "kernelspec": {
   "display_name": "Python 3",
   "language": "python",
   "name": "python3"
  },
  "language_info": {
   "codemirror_mode": {
    "name": "ipython",
    "version": 3
   },
   "file_extension": ".py",
   "mimetype": "text/x-python",
   "name": "python",
   "nbconvert_exporter": "python",
   "pygments_lexer": "ipython3",
   "version": "3.6.3"
  }
 },
 "nbformat": 4,
 "nbformat_minor": 2
}
